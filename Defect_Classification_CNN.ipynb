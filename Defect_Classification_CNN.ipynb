{
 "cells": [
  {
   "cell_type": "markdown",
   "metadata": {},
   "source": [
    "# Defect_Classification_CNN\n",
    "\n",
    "* Written by: Angelo D. Bonzanini and Ketong Shao\n",
    "* Date: June-July 2021\n",
    "\n",
    "<< Code Desctription >>"
   ]
  },
  {
   "cell_type": "markdown",
   "metadata": {},
   "source": [
    "## Imports"
   ]
  },
  {
   "cell_type": "code",
   "execution_count": 37,
   "metadata": {},
   "outputs": [],
   "source": [
    "from tensorflow.keras.layers import Input, Conv2D\n",
    "from tensorflow.keras.layers import MaxPool2D, Flatten, Dense, Dropout\n",
    "from tensorflow.keras import Model\n",
    "import tensorflow_addons as tfa"
   ]
  },
  {
   "cell_type": "markdown",
   "metadata": {},
   "source": [
    "## Define a class containing all the parameters"
   ]
  },
  {
   "cell_type": "code",
   "execution_count": 38,
   "metadata": {},
   "outputs": [],
   "source": [
    "class Parameters:\n",
    "    def __init__(self):\n",
    "        self.dropoutRate = 0.5\n",
    "\n",
    "p = Parameters();"
   ]
  },
  {
   "cell_type": "markdown",
   "metadata": {},
   "source": [
    "## Build the CNN model\n",
    "\n",
    "### Input Layer\n",
    "* 224x224 RGB image (3 channels)\n",
    "\n",
    "### 1st Convolutional Block\n",
    "* 2 convolutional layers\n",
    "    * Filters: 64; Pixel size: 3x3; Stride: 1; Activation function: ReLU\n",
    "* 1 max-pooling layer\n",
    "    * Pixel size: 2x2; Stride: 2\n",
    "    \n",
    "### 2nd Convolutional Block\n",
    "* 2 convolutional layers\n",
    "    * Filters: 128; Pixel size: 3x3; Stride: 1; Activation function: ReLU\n",
    "* 1 max-pooling layer\n",
    "    * Pixel size: 2x2; Stride: 2\n",
    "    \n",
    "### 3rd Convolutional Block\n",
    "* 3 convolutional layers\n",
    "    * Filters: 256; Pixel size: 3x3; Stride: 1; Activation function: ReLU\n",
    "* 1 max-pooling layer\n",
    "    * Pixel size: 2x2; Stride: 2\n",
    "\n",
    "### 4th & 5th Convolutional Blocks\n",
    "* 3 convolutional layers\n",
    "    * Filters: 512; Pixel size: 3x3; Stride: 1; Activation function: ReLU\n",
    "* 1 max-pooling layer\n",
    "    * Pixel size: 2x2; Stride: 2\n",
    "    \n",
    "### 1st Fully-connected Layer\n",
    "* 4096 nodes\n",
    "* ReLU activation function\n",
    "* 50% dropout rate\n",
    "\n",
    "### 2nd Fully-connected Layer\n",
    "* 4096 nodes\n",
    "* ReLU activation function\n",
    "* 50% dropout rate\n",
    "\n",
    "### Output Layer\n",
    "* 1000 nodes\n",
    "* Softmax activation function"
   ]
  },
  {
   "cell_type": "code",
   "execution_count": 39,
   "metadata": {},
   "outputs": [],
   "source": [
    "class CNN():\n",
    "    def buildModel(self):\n",
    "        # Input structure as a placeholder\n",
    "        CNNinput = Input(shape =(224,224,3))\n",
    "\n",
    "        # 1st Convolutional block\n",
    "        x = Conv2D(filters=64, kernel_size = (3, 3), strides = 1, padding = 'same', \n",
    "                   activation='relu')(CNNinput)\n",
    "        x = Conv2D(filters=64, kernel_size = (3, 3), strides = 1, padding = 'same', \n",
    "                   activation='relu')(x)\n",
    "        x = MaxPool2D(pool_size=(2,2), strides = 2, padding = 'same')(x)\n",
    "\n",
    "        # 2nd Convolutional block\n",
    "        for i in range(0, 2):\n",
    "            x = Conv2D(filters=128, kernel_size = (3, 3), strides = 1, padding = 'same', \n",
    "                       activation='relu')(x)\n",
    "        x = MaxPool2D(pool_size=(2,2), strides = 2, padding = 'same')(x)\n",
    "\n",
    "        # 3rd Convolutional block\n",
    "        for i in range(0, 3):\n",
    "            x = Conv2D(filters=256, kernel_size = (3, 3), strides = 1, padding = 'same', \n",
    "                       activation='relu')(x)\n",
    "        x = MaxPool2D(pool_size=(2,2), strides = 2, padding = 'same')(x)\n",
    "\n",
    "        # 4th Convolutional block\n",
    "        for i in range(0, 3):\n",
    "            x = Conv2D(filters=512, kernel_size = (3, 3), strides = 1, padding = 'same', \n",
    "                       activation='relu')(x)\n",
    "        x = MaxPool2D(pool_size=(2,2), strides = 2, padding = 'same')(x)\n",
    "\n",
    "        # 5th Convolutional block\n",
    "        for i in range(0, 3):\n",
    "            x = Conv2D(filters=512, kernel_size = (3, 3), strides = 1, padding = 'same', \n",
    "                       activation='relu')(x)\n",
    "        x = MaxPool2D(pool_size=(2,2), strides = 2, padding = 'same')(x)\n",
    "\n",
    "        # Fully connected layers\n",
    "        x = Flatten()(x)\n",
    "        for i in range(0,2):\n",
    "            x = Dense(units = 4096, activation ='relu')(x) \n",
    "            x = Dropout(p.dropoutRate)(x)\n",
    "        CNNoutput = Dense(units = 1000, activation ='softmax')(x)\n",
    "\n",
    "        # Create model\n",
    "        model = Model(inputs = CNNinput, outputs = CNNoutput)\n",
    "        return model\n",
    "    \n",
    "    def trainCNN(model, xTrain, yTrain, xVal, yVal):\n",
    "        model.compile(optimizer='RMSprop',\n",
    "              loss=tf.keras.losses.SparseCategoricalCrossentropy(from_logits=True),\n",
    "              metrics=['accuracy'])\n",
    "\n",
    "        history = model.fit(xTrain, yTrain, epochs=10, \n",
    "                            validation_data=(xVal, yVal))\n",
    "        return history"
   ]
  },
  {
   "cell_type": "code",
   "execution_count": 40,
   "metadata": {},
   "outputs": [
    {
     "name": "stdout",
     "output_type": "stream",
     "text": [
      "Model: \"model_4\"\n",
      "_________________________________________________________________\n",
      "Layer (type)                 Output Shape              Param #   \n",
      "=================================================================\n",
      "input_9 (InputLayer)         [(None, 224, 224, 3)]     0         \n",
      "_________________________________________________________________\n",
      "conv2d_82 (Conv2D)           (None, 224, 224, 64)      1792      \n",
      "_________________________________________________________________\n",
      "conv2d_83 (Conv2D)           (None, 224, 224, 64)      36928     \n",
      "_________________________________________________________________\n",
      "max_pooling2d_32 (MaxPooling (None, 112, 112, 64)      0         \n",
      "_________________________________________________________________\n",
      "conv2d_84 (Conv2D)           (None, 112, 112, 128)     73856     \n",
      "_________________________________________________________________\n",
      "conv2d_85 (Conv2D)           (None, 112, 112, 128)     147584    \n",
      "_________________________________________________________________\n",
      "max_pooling2d_33 (MaxPooling (None, 56, 56, 128)       0         \n",
      "_________________________________________________________________\n",
      "conv2d_86 (Conv2D)           (None, 56, 56, 256)       295168    \n",
      "_________________________________________________________________\n",
      "conv2d_87 (Conv2D)           (None, 56, 56, 256)       590080    \n",
      "_________________________________________________________________\n",
      "conv2d_88 (Conv2D)           (None, 56, 56, 256)       590080    \n",
      "_________________________________________________________________\n",
      "max_pooling2d_34 (MaxPooling (None, 28, 28, 256)       0         \n",
      "_________________________________________________________________\n",
      "conv2d_89 (Conv2D)           (None, 28, 28, 512)       1180160   \n",
      "_________________________________________________________________\n",
      "conv2d_90 (Conv2D)           (None, 28, 28, 512)       2359808   \n",
      "_________________________________________________________________\n",
      "conv2d_91 (Conv2D)           (None, 28, 28, 512)       2359808   \n",
      "_________________________________________________________________\n",
      "max_pooling2d_35 (MaxPooling (None, 14, 14, 512)       0         \n",
      "_________________________________________________________________\n",
      "conv2d_92 (Conv2D)           (None, 14, 14, 512)       2359808   \n",
      "_________________________________________________________________\n",
      "conv2d_93 (Conv2D)           (None, 14, 14, 512)       2359808   \n",
      "_________________________________________________________________\n",
      "conv2d_94 (Conv2D)           (None, 14, 14, 512)       2359808   \n",
      "_________________________________________________________________\n",
      "max_pooling2d_36 (MaxPooling (None, 7, 7, 512)         0         \n",
      "_________________________________________________________________\n",
      "flatten_6 (Flatten)          (None, 25088)             0         \n",
      "_________________________________________________________________\n",
      "dense_13 (Dense)             (None, 4096)              102764544 \n",
      "_________________________________________________________________\n",
      "dropout_8 (Dropout)          (None, 4096)              0         \n",
      "_________________________________________________________________\n",
      "dense_14 (Dense)             (None, 4096)              16781312  \n",
      "_________________________________________________________________\n",
      "dropout_9 (Dropout)          (None, 4096)              0         \n",
      "_________________________________________________________________\n",
      "dense_15 (Dense)             (None, 1000)              4097000   \n",
      "=================================================================\n",
      "Total params: 138,357,544\n",
      "Trainable params: 138,357,544\n",
      "Non-trainable params: 0\n",
      "_________________________________________________________________\n"
     ]
    }
   ],
   "source": [
    "# Instantiate object\n",
    "cnn = CNN()\n",
    "model = cnn.buildModel()\n",
    "model.summary()"
   ]
  },
  {
   "cell_type": "markdown",
   "metadata": {},
   "source": [
    "## Load and Pre-process Data"
   ]
  },
  {
   "cell_type": "code",
   "execution_count": 41,
   "metadata": {},
   "outputs": [],
   "source": [
    "# Load\n",
    "# [...]\n",
    "\n",
    "# Outlier detection using clustering?\n",
    "# [...]\n",
    "\n",
    "# Crop\n",
    "# [...]\n",
    "# cropped = tf.image.central_crop(image, central_fraction=0.5)\n",
    "# visualize(image,cropped)\n",
    "\n",
    "# Data augmentation by roating 60 degrees\n",
    "# [...]\n",
    "# rotate = tfa.image.rotate(img, tf.constant(np.pi/3))\n",
    "# visualize(image, rotated)\n"
   ]
  },
  {
   "cell_type": "markdown",
   "metadata": {},
   "source": [
    "## Train the CNN"
   ]
  },
  {
   "cell_type": "code",
   "execution_count": null,
   "metadata": {},
   "outputs": [],
   "source": [
    "# Train the CNN\n",
    "# def trainCNN(model, xTrain, yTrain, xVal, yVal)"
   ]
  }
 ],
 "metadata": {
  "kernelspec": {
   "display_name": "Python 3",
   "language": "python",
   "name": "python3"
  },
  "language_info": {
   "codemirror_mode": {
    "name": "ipython",
    "version": 3
   },
   "file_extension": ".py",
   "mimetype": "text/x-python",
   "name": "python",
   "nbconvert_exporter": "python",
   "pygments_lexer": "ipython3",
   "version": "3.7.4"
  }
 },
 "nbformat": 4,
 "nbformat_minor": 2
}
